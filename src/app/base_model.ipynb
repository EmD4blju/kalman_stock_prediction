{
 "cells": [
  {
   "cell_type": "markdown",
   "id": "27dca54c",
   "metadata": {},
   "source": [
    "# Base model for stock prediction"
   ]
  },
  {
   "cell_type": "code",
   "execution_count": 1,
   "id": "51e1b357",
   "metadata": {},
   "outputs": [],
   "source": [
    "from tools.log_controller import LogController\n",
    "from pathlib import Path\n",
    "\n",
    "log_controller = LogController(config_path=Path('config', 'logging_config.json'))\n",
    "log_controller.start()"
   ]
  },
  {
   "cell_type": "code",
   "execution_count": 2,
   "id": "f63950aa",
   "metadata": {},
   "outputs": [
    {
     "name": "stdout",
     "output_type": "stream",
     "text": [
      "\u001b[32m 2025-09-05 12:30:58 - data_repository - INFO - Loaded: AAPL\u001b[0m\n",
      "\u001b[32m 2025-09-05 12:30:58 - data_repository - INFO - Loaded: AMZN\u001b[0m\n",
      "\u001b[32m 2025-09-05 12:30:58 - data_repository - INFO - Loaded periodic stock market data for: {'AAPL', 'AMZN'}\u001b[0m\n"
     ]
    },
    {
     "data": {
      "text/html": [
       "<div>\n",
       "<style scoped>\n",
       "    .dataframe tbody tr th:only-of-type {\n",
       "        vertical-align: middle;\n",
       "    }\n",
       "\n",
       "    .dataframe tbody tr th {\n",
       "        vertical-align: top;\n",
       "    }\n",
       "\n",
       "    .dataframe thead th {\n",
       "        text-align: right;\n",
       "    }\n",
       "</style>\n",
       "<table border=\"1\" class=\"dataframe\">\n",
       "  <thead>\n",
       "    <tr style=\"text-align: right;\">\n",
       "      <th></th>\n",
       "      <th>Close</th>\n",
       "      <th>High</th>\n",
       "      <th>Low</th>\n",
       "      <th>Open</th>\n",
       "      <th>Volume</th>\n",
       "    </tr>\n",
       "    <tr>\n",
       "      <th>Date</th>\n",
       "      <th></th>\n",
       "      <th></th>\n",
       "      <th></th>\n",
       "      <th></th>\n",
       "      <th></th>\n",
       "    </tr>\n",
       "  </thead>\n",
       "  <tbody>\n",
       "    <tr>\n",
       "      <th>2002-10-29</th>\n",
       "      <td>0.9285</td>\n",
       "      <td>0.9460</td>\n",
       "      <td>0.9035</td>\n",
       "      <td>0.9255</td>\n",
       "      <td>144840000</td>\n",
       "    </tr>\n",
       "    <tr>\n",
       "      <th>2002-10-30</th>\n",
       "      <td>0.9540</td>\n",
       "      <td>0.9610</td>\n",
       "      <td>0.9235</td>\n",
       "      <td>0.9425</td>\n",
       "      <td>137776000</td>\n",
       "    </tr>\n",
       "    <tr>\n",
       "      <th>2002-10-31</th>\n",
       "      <td>0.9680</td>\n",
       "      <td>0.9740</td>\n",
       "      <td>0.9425</td>\n",
       "      <td>0.9515</td>\n",
       "      <td>136452000</td>\n",
       "    </tr>\n",
       "    <tr>\n",
       "      <th>2002-11-01</th>\n",
       "      <td>0.9900</td>\n",
       "      <td>0.9950</td>\n",
       "      <td>0.9545</td>\n",
       "      <td>0.9610</td>\n",
       "      <td>110988000</td>\n",
       "    </tr>\n",
       "    <tr>\n",
       "      <th>2002-11-04</th>\n",
       "      <td>0.9390</td>\n",
       "      <td>0.9905</td>\n",
       "      <td>0.9295</td>\n",
       "      <td>0.9695</td>\n",
       "      <td>259270000</td>\n",
       "    </tr>\n",
       "    <tr>\n",
       "      <th>...</th>\n",
       "      <td>...</td>\n",
       "      <td>...</td>\n",
       "      <td>...</td>\n",
       "      <td>...</td>\n",
       "      <td>...</td>\n",
       "    </tr>\n",
       "    <tr>\n",
       "      <th>2003-10-22</th>\n",
       "      <td>2.7015</td>\n",
       "      <td>2.8075</td>\n",
       "      <td>2.6865</td>\n",
       "      <td>2.8025</td>\n",
       "      <td>654038000</td>\n",
       "    </tr>\n",
       "    <tr>\n",
       "      <th>2003-10-23</th>\n",
       "      <td>2.7160</td>\n",
       "      <td>2.7260</td>\n",
       "      <td>2.6455</td>\n",
       "      <td>2.6490</td>\n",
       "      <td>292234000</td>\n",
       "    </tr>\n",
       "    <tr>\n",
       "      <th>2003-10-24</th>\n",
       "      <td>2.7255</td>\n",
       "      <td>2.7470</td>\n",
       "      <td>2.6500</td>\n",
       "      <td>2.7275</td>\n",
       "      <td>208764000</td>\n",
       "    </tr>\n",
       "    <tr>\n",
       "      <th>2003-10-27</th>\n",
       "      <td>2.7410</td>\n",
       "      <td>2.7625</td>\n",
       "      <td>2.7250</td>\n",
       "      <td>2.7450</td>\n",
       "      <td>127838000</td>\n",
       "    </tr>\n",
       "    <tr>\n",
       "      <th>2003-10-28</th>\n",
       "      <td>2.8365</td>\n",
       "      <td>2.8450</td>\n",
       "      <td>2.7275</td>\n",
       "      <td>2.7595</td>\n",
       "      <td>184618000</td>\n",
       "    </tr>\n",
       "  </tbody>\n",
       "</table>\n",
       "<p>252 rows × 5 columns</p>\n",
       "</div>"
      ],
      "text/plain": [
       "             Close    High     Low    Open     Volume\n",
       "Date                                                 \n",
       "2002-10-29  0.9285  0.9460  0.9035  0.9255  144840000\n",
       "2002-10-30  0.9540  0.9610  0.9235  0.9425  137776000\n",
       "2002-10-31  0.9680  0.9740  0.9425  0.9515  136452000\n",
       "2002-11-01  0.9900  0.9950  0.9545  0.9610  110988000\n",
       "2002-11-04  0.9390  0.9905  0.9295  0.9695  259270000\n",
       "...            ...     ...     ...     ...        ...\n",
       "2003-10-22  2.7015  2.8075  2.6865  2.8025  654038000\n",
       "2003-10-23  2.7160  2.7260  2.6455  2.6490  292234000\n",
       "2003-10-24  2.7255  2.7470  2.6500  2.7275  208764000\n",
       "2003-10-27  2.7410  2.7625  2.7250  2.7450  127838000\n",
       "2003-10-28  2.8365  2.8450  2.7275  2.7595  184618000\n",
       "\n",
       "[252 rows x 5 columns]"
      ]
     },
     "execution_count": 2,
     "metadata": {},
     "output_type": "execute_result"
    }
   ],
   "source": [
    "from core.data_repository import DataRepository\n",
    "from pathlib import Path\n",
    "\n",
    "data_repository = DataRepository(repo_path=Path('repo'))\n",
    "AMZN_periodic_data = data_repository.get_dataframes()['AMZN']\n",
    "\n",
    "AMZN_periodic_data"
   ]
  },
  {
   "cell_type": "code",
   "execution_count": 3,
   "id": "89fb09ff",
   "metadata": {},
   "outputs": [
    {
     "name": "stdout",
     "output_type": "stream",
     "text": [
      "\u001b[32m 2025-09-05 12:30:58 - data_preparator - INFO - Preparing data for target column: Close, with t=3\u001b[0m\n"
     ]
    },
    {
     "data": {
      "text/html": [
       "<div>\n",
       "<style scoped>\n",
       "    .dataframe tbody tr th:only-of-type {\n",
       "        vertical-align: middle;\n",
       "    }\n",
       "\n",
       "    .dataframe tbody tr th {\n",
       "        vertical-align: top;\n",
       "    }\n",
       "\n",
       "    .dataframe thead th {\n",
       "        text-align: right;\n",
       "    }\n",
       "</style>\n",
       "<table border=\"1\" class=\"dataframe\">\n",
       "  <thead>\n",
       "    <tr style=\"text-align: right;\">\n",
       "      <th></th>\n",
       "      <th>Close</th>\n",
       "      <th>Close_0</th>\n",
       "      <th>Close_1</th>\n",
       "      <th>Close_2</th>\n",
       "    </tr>\n",
       "    <tr>\n",
       "      <th>Date</th>\n",
       "      <th></th>\n",
       "      <th></th>\n",
       "      <th></th>\n",
       "      <th></th>\n",
       "    </tr>\n",
       "  </thead>\n",
       "  <tbody>\n",
       "    <tr>\n",
       "      <th>2002-11-01</th>\n",
       "      <td>0.9900</td>\n",
       "      <td>0.9680</td>\n",
       "      <td>0.9540</td>\n",
       "      <td>0.9285</td>\n",
       "    </tr>\n",
       "    <tr>\n",
       "      <th>2002-11-04</th>\n",
       "      <td>0.9390</td>\n",
       "      <td>0.9900</td>\n",
       "      <td>0.9680</td>\n",
       "      <td>0.9540</td>\n",
       "    </tr>\n",
       "    <tr>\n",
       "      <th>2002-11-05</th>\n",
       "      <td>0.9360</td>\n",
       "      <td>0.9390</td>\n",
       "      <td>0.9900</td>\n",
       "      <td>0.9680</td>\n",
       "    </tr>\n",
       "    <tr>\n",
       "      <th>2002-11-06</th>\n",
       "      <td>0.9670</td>\n",
       "      <td>0.9360</td>\n",
       "      <td>0.9390</td>\n",
       "      <td>0.9900</td>\n",
       "    </tr>\n",
       "    <tr>\n",
       "      <th>2002-11-07</th>\n",
       "      <td>0.9560</td>\n",
       "      <td>0.9670</td>\n",
       "      <td>0.9360</td>\n",
       "      <td>0.9390</td>\n",
       "    </tr>\n",
       "    <tr>\n",
       "      <th>...</th>\n",
       "      <td>...</td>\n",
       "      <td>...</td>\n",
       "      <td>...</td>\n",
       "      <td>...</td>\n",
       "    </tr>\n",
       "    <tr>\n",
       "      <th>2003-10-22</th>\n",
       "      <td>2.7015</td>\n",
       "      <td>2.9675</td>\n",
       "      <td>2.9795</td>\n",
       "      <td>2.9845</td>\n",
       "    </tr>\n",
       "    <tr>\n",
       "      <th>2003-10-23</th>\n",
       "      <td>2.7160</td>\n",
       "      <td>2.7015</td>\n",
       "      <td>2.9675</td>\n",
       "      <td>2.9795</td>\n",
       "    </tr>\n",
       "    <tr>\n",
       "      <th>2003-10-24</th>\n",
       "      <td>2.7255</td>\n",
       "      <td>2.7160</td>\n",
       "      <td>2.7015</td>\n",
       "      <td>2.9675</td>\n",
       "    </tr>\n",
       "    <tr>\n",
       "      <th>2003-10-27</th>\n",
       "      <td>2.7410</td>\n",
       "      <td>2.7255</td>\n",
       "      <td>2.7160</td>\n",
       "      <td>2.7015</td>\n",
       "    </tr>\n",
       "    <tr>\n",
       "      <th>2003-10-28</th>\n",
       "      <td>2.8365</td>\n",
       "      <td>2.7410</td>\n",
       "      <td>2.7255</td>\n",
       "      <td>2.7160</td>\n",
       "    </tr>\n",
       "  </tbody>\n",
       "</table>\n",
       "<p>249 rows × 4 columns</p>\n",
       "</div>"
      ],
      "text/plain": [
       "             Close  Close_0  Close_1  Close_2\n",
       "Date                                         \n",
       "2002-11-01  0.9900   0.9680   0.9540   0.9285\n",
       "2002-11-04  0.9390   0.9900   0.9680   0.9540\n",
       "2002-11-05  0.9360   0.9390   0.9900   0.9680\n",
       "2002-11-06  0.9670   0.9360   0.9390   0.9900\n",
       "2002-11-07  0.9560   0.9670   0.9360   0.9390\n",
       "...            ...      ...      ...      ...\n",
       "2003-10-22  2.7015   2.9675   2.9795   2.9845\n",
       "2003-10-23  2.7160   2.7015   2.9675   2.9795\n",
       "2003-10-24  2.7255   2.7160   2.7015   2.9675\n",
       "2003-10-27  2.7410   2.7255   2.7160   2.7015\n",
       "2003-10-28  2.8365   2.7410   2.7255   2.7160\n",
       "\n",
       "[249 rows x 4 columns]"
      ]
     },
     "execution_count": 3,
     "metadata": {},
     "output_type": "execute_result"
    }
   ],
   "source": [
    "from core.data_preparator import DataPreparator\n",
    "\n",
    "AMZN_supervised_data = DataPreparator.reformat_periodic_to_supervised_data(\n",
    "    dataframe=AMZN_periodic_data,\n",
    "    target_column='Close',\n",
    "    t=3\n",
    ")\n",
    "\n",
    "AMZN_supervised_data"
   ]
  },
  {
   "cell_type": "code",
   "execution_count": 4,
   "id": "2a4435c3",
   "metadata": {},
   "outputs": [
    {
     "data": {
      "text/plain": [
       "(139, 4)"
      ]
     },
     "metadata": {},
     "output_type": "display_data"
    },
    {
     "data": {
      "text/plain": [
       "(60, 4)"
      ]
     },
     "metadata": {},
     "output_type": "display_data"
    },
    {
     "data": {
      "text/plain": [
       "(50, 4)"
      ]
     },
     "metadata": {},
     "output_type": "display_data"
    }
   ],
   "source": [
    "from core.dataset import StockDataset\n",
    "from sklearn.model_selection import train_test_split\n",
    "\n",
    "AMZN_train_dataset, AMZN_test_dataset = train_test_split(AMZN_supervised_data, test_size=0.2, shuffle=True, random_state=42)\n",
    "AMZN_train_dataset, AMZN_validation_dataset = train_test_split(AMZN_train_dataset, test_size=0.3, shuffle=True, random_state=42)\n",
    "\n",
    "display(AMZN_train_dataset.shape, AMZN_validation_dataset.shape, AMZN_test_dataset.shape)"
   ]
  },
  {
   "cell_type": "code",
   "execution_count": 5,
   "id": "4e863ad2",
   "metadata": {},
   "outputs": [
    {
     "name": "stdout",
     "output_type": "stream",
     "text": [
      "\u001b[32m 2025-09-05 12:31:01 - dataset - INFO - Created stock dataset for AMZN, focusing target: Close\u001b[0m\n",
      "\u001b[32m 2025-09-05 12:31:01 - dataset - INFO - Created stock dataset for AMZN, focusing target: Close\u001b[0m\n",
      "\u001b[32m 2025-09-05 12:31:01 - dataset - INFO - Created stock dataset for AMZN, focusing target: Close\u001b[0m\n"
     ]
    }
   ],
   "source": [
    "AMZN_train_dataset = StockDataset(AMZN_train_dataset)\n",
    "AMZN_validation_dataset = StockDataset(AMZN_validation_dataset)\n",
    "AMZN_test_dataset = StockDataset(AMZN_test_dataset)"
   ]
  },
  {
   "cell_type": "code",
   "execution_count": 6,
   "id": "6a57141c",
   "metadata": {},
   "outputs": [
    {
     "name": "stdout",
     "output_type": "stream",
     "text": [
      "\u001b[32m 2025-09-05 12:31:01 - model - INFO - Model(id=base_amzn_model,\n",
      "ticker=('AMZN',),\n",
      "input_dimension=1),\n",
      "hidden_dimension=4,\n",
      "layer_dimension=1,\n",
      "output_dimension=1)\u001b[0m\n"
     ]
    }
   ],
   "source": [
    "from models.base_model import BaseStockModel\n",
    "\n",
    "AMZN_base_model = BaseStockModel(\n",
    "    id='base_amzn_model',\n",
    "    ticker='AMZN',\n",
    "    input_dim=1,\n",
    "    hidden_dim=4,\n",
    "    layer_dim=1,\n",
    "    output_dim=1\n",
    ")"
   ]
  },
  {
   "cell_type": "code",
   "execution_count": 7,
   "id": "5f3b3691",
   "metadata": {},
   "outputs": [],
   "source": [
    "from torch.optim import Adam\n",
    "from torch.nn import MSELoss\n",
    "\n",
    "optimizer = Adam(AMZN_base_model.parameters(), lr=0.001)\n",
    "loss_function = MSELoss()"
   ]
  },
  {
   "cell_type": "code",
   "execution_count": 16,
   "id": "eabe50cc",
   "metadata": {},
   "outputs": [
    {
     "name": "stdout",
     "output_type": "stream",
     "text": [
      "Epoch [1/5], RMSE: 0.3431\n",
      "Epoch [2/5], RMSE: 0.4626\n",
      "Epoch [3/5], RMSE: 0.3330\n",
      "Epoch [4/5], RMSE: 0.4666\n",
      "Epoch [5/5], RMSE: 0.3746\n"
     ]
    }
   ],
   "source": [
    "from torch.utils.data import DataLoader\n",
    "import numpy as np\n",
    "\n",
    "AMZN_train_data_loader = DataLoader(AMZN_train_dataset, batch_size=16, shuffle=True)\n",
    "AMZN_validation_data_loader = DataLoader(AMZN_validation_dataset, batch_size=10, shuffle=True)\n",
    "\n",
    "epochs = 5\n",
    "\n",
    "for epoch in range(epochs):\n",
    "    for X,y in AMZN_train_data_loader:\n",
    "        optimizer.zero_grad()\n",
    "        X, y = X.reshape(-1,3,1), y.reshape(-1,1) # Adjust for t\n",
    "        outputs, _ = AMZN_base_model(X)\n",
    "        loss = loss_function(outputs, y)\n",
    "        loss.backward()\n",
    "        optimizer.step()\n",
    "        \n",
    "        \n",
    "    print(f'Epoch [{epoch+1}/{epochs}], RMSE: {np.sqrt(loss.item()):.4f}')"
   ]
  }
 ],
 "metadata": {
  "kernelspec": {
   "display_name": "kalman_stock_prediction (3.12.3)",
   "language": "python",
   "name": "python3"
  },
  "language_info": {
   "codemirror_mode": {
    "name": "ipython",
    "version": 3
   },
   "file_extension": ".py",
   "mimetype": "text/x-python",
   "name": "python",
   "nbconvert_exporter": "python",
   "pygments_lexer": "ipython3",
   "version": "3.12.3"
  }
 },
 "nbformat": 4,
 "nbformat_minor": 5
}
